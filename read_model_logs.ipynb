{
 "cells": [
  {
   "cell_type": "code",
   "execution_count": 1,
   "metadata": {
    "collapsed": true
   },
   "outputs": [
    {
     "data": {
      "text/plain": "    iteration  reward_mean  length_mean  games  loss\n0         500        -1.00         2.00      8   NaN\n1        1000        -1.00         2.00      9   NaN\n2        1500        -0.88         2.12      8   NaN\n3        2000        -1.00         2.00      8   NaN\n4        2500        -1.00         2.00      8   NaN\n5        3000        -0.89         2.11      9   NaN\n6        3500        -1.00         2.00      8   NaN\n7        4000        -0.89         2.11      9   NaN\n8        4500        -0.88         2.12      8   NaN\n9        5000        -1.00         2.00      8   NaN\n10       5500        -1.00         2.00      9   NaN\n11       6000        -1.00         2.00      8   NaN\n12       6500        -0.88         2.12      8   NaN\n13       7000        -1.00         2.00      8   NaN\n14       7500        -1.00         2.00     10   NaN\n15       8000        -0.90         2.10     10   NaN\n16       8500        -1.00         2.00      8   NaN\n17       9000        -0.89         2.11      9   NaN\n18       9500        -1.00         2.00     12   NaN\n19      10000        -1.00         2.00      8   NaN\n20      10500        -1.00         2.00      9   NaN\n21      11000        -0.90         2.10     10   NaN\n22      11500        -0.78         2.22      9   NaN\n23      12000        -0.89         2.11      9   NaN\n24      12500        -1.00         2.00      9   NaN\n25      13000        -1.00         2.00      8   NaN\n26      13500        -0.88         2.12      8   NaN\n27      14000        -0.88         2.12      8   NaN\n28      14500        -1.00         2.00     10   NaN\n29      15000        -1.00         2.00      9   NaN\n30      15500        -0.78         2.22      9   NaN\n31      16000        -1.00         2.00      9   NaN\n32      16500        -1.00         2.00     10   NaN\n33      17000        -1.00         2.00      9   NaN\n34      17500        -1.00         2.00      8   NaN\n35      18000        -0.90         2.10     10   NaN\n36      18500        -0.90         2.10     10   NaN\n37      19000        -1.00         2.00      8   NaN\n38      19500        -0.88         2.12      8   NaN\n39      20000        -1.00         2.00      9   NaN",
      "text/html": "<div>\n<style scoped>\n    .dataframe tbody tr th:only-of-type {\n        vertical-align: middle;\n    }\n\n    .dataframe tbody tr th {\n        vertical-align: top;\n    }\n\n    .dataframe thead th {\n        text-align: right;\n    }\n</style>\n<table border=\"1\" class=\"dataframe\">\n  <thead>\n    <tr style=\"text-align: right;\">\n      <th></th>\n      <th>iteration</th>\n      <th>reward_mean</th>\n      <th>length_mean</th>\n      <th>games</th>\n      <th>loss</th>\n    </tr>\n  </thead>\n  <tbody>\n    <tr>\n      <th>0</th>\n      <td>500</td>\n      <td>-1.00</td>\n      <td>2.00</td>\n      <td>8</td>\n      <td>NaN</td>\n    </tr>\n    <tr>\n      <th>1</th>\n      <td>1000</td>\n      <td>-1.00</td>\n      <td>2.00</td>\n      <td>9</td>\n      <td>NaN</td>\n    </tr>\n    <tr>\n      <th>2</th>\n      <td>1500</td>\n      <td>-0.88</td>\n      <td>2.12</td>\n      <td>8</td>\n      <td>NaN</td>\n    </tr>\n    <tr>\n      <th>3</th>\n      <td>2000</td>\n      <td>-1.00</td>\n      <td>2.00</td>\n      <td>8</td>\n      <td>NaN</td>\n    </tr>\n    <tr>\n      <th>4</th>\n      <td>2500</td>\n      <td>-1.00</td>\n      <td>2.00</td>\n      <td>8</td>\n      <td>NaN</td>\n    </tr>\n    <tr>\n      <th>5</th>\n      <td>3000</td>\n      <td>-0.89</td>\n      <td>2.11</td>\n      <td>9</td>\n      <td>NaN</td>\n    </tr>\n    <tr>\n      <th>6</th>\n      <td>3500</td>\n      <td>-1.00</td>\n      <td>2.00</td>\n      <td>8</td>\n      <td>NaN</td>\n    </tr>\n    <tr>\n      <th>7</th>\n      <td>4000</td>\n      <td>-0.89</td>\n      <td>2.11</td>\n      <td>9</td>\n      <td>NaN</td>\n    </tr>\n    <tr>\n      <th>8</th>\n      <td>4500</td>\n      <td>-0.88</td>\n      <td>2.12</td>\n      <td>8</td>\n      <td>NaN</td>\n    </tr>\n    <tr>\n      <th>9</th>\n      <td>5000</td>\n      <td>-1.00</td>\n      <td>2.00</td>\n      <td>8</td>\n      <td>NaN</td>\n    </tr>\n    <tr>\n      <th>10</th>\n      <td>5500</td>\n      <td>-1.00</td>\n      <td>2.00</td>\n      <td>9</td>\n      <td>NaN</td>\n    </tr>\n    <tr>\n      <th>11</th>\n      <td>6000</td>\n      <td>-1.00</td>\n      <td>2.00</td>\n      <td>8</td>\n      <td>NaN</td>\n    </tr>\n    <tr>\n      <th>12</th>\n      <td>6500</td>\n      <td>-0.88</td>\n      <td>2.12</td>\n      <td>8</td>\n      <td>NaN</td>\n    </tr>\n    <tr>\n      <th>13</th>\n      <td>7000</td>\n      <td>-1.00</td>\n      <td>2.00</td>\n      <td>8</td>\n      <td>NaN</td>\n    </tr>\n    <tr>\n      <th>14</th>\n      <td>7500</td>\n      <td>-1.00</td>\n      <td>2.00</td>\n      <td>10</td>\n      <td>NaN</td>\n    </tr>\n    <tr>\n      <th>15</th>\n      <td>8000</td>\n      <td>-0.90</td>\n      <td>2.10</td>\n      <td>10</td>\n      <td>NaN</td>\n    </tr>\n    <tr>\n      <th>16</th>\n      <td>8500</td>\n      <td>-1.00</td>\n      <td>2.00</td>\n      <td>8</td>\n      <td>NaN</td>\n    </tr>\n    <tr>\n      <th>17</th>\n      <td>9000</td>\n      <td>-0.89</td>\n      <td>2.11</td>\n      <td>9</td>\n      <td>NaN</td>\n    </tr>\n    <tr>\n      <th>18</th>\n      <td>9500</td>\n      <td>-1.00</td>\n      <td>2.00</td>\n      <td>12</td>\n      <td>NaN</td>\n    </tr>\n    <tr>\n      <th>19</th>\n      <td>10000</td>\n      <td>-1.00</td>\n      <td>2.00</td>\n      <td>8</td>\n      <td>NaN</td>\n    </tr>\n    <tr>\n      <th>20</th>\n      <td>10500</td>\n      <td>-1.00</td>\n      <td>2.00</td>\n      <td>9</td>\n      <td>NaN</td>\n    </tr>\n    <tr>\n      <th>21</th>\n      <td>11000</td>\n      <td>-0.90</td>\n      <td>2.10</td>\n      <td>10</td>\n      <td>NaN</td>\n    </tr>\n    <tr>\n      <th>22</th>\n      <td>11500</td>\n      <td>-0.78</td>\n      <td>2.22</td>\n      <td>9</td>\n      <td>NaN</td>\n    </tr>\n    <tr>\n      <th>23</th>\n      <td>12000</td>\n      <td>-0.89</td>\n      <td>2.11</td>\n      <td>9</td>\n      <td>NaN</td>\n    </tr>\n    <tr>\n      <th>24</th>\n      <td>12500</td>\n      <td>-1.00</td>\n      <td>2.00</td>\n      <td>9</td>\n      <td>NaN</td>\n    </tr>\n    <tr>\n      <th>25</th>\n      <td>13000</td>\n      <td>-1.00</td>\n      <td>2.00</td>\n      <td>8</td>\n      <td>NaN</td>\n    </tr>\n    <tr>\n      <th>26</th>\n      <td>13500</td>\n      <td>-0.88</td>\n      <td>2.12</td>\n      <td>8</td>\n      <td>NaN</td>\n    </tr>\n    <tr>\n      <th>27</th>\n      <td>14000</td>\n      <td>-0.88</td>\n      <td>2.12</td>\n      <td>8</td>\n      <td>NaN</td>\n    </tr>\n    <tr>\n      <th>28</th>\n      <td>14500</td>\n      <td>-1.00</td>\n      <td>2.00</td>\n      <td>10</td>\n      <td>NaN</td>\n    </tr>\n    <tr>\n      <th>29</th>\n      <td>15000</td>\n      <td>-1.00</td>\n      <td>2.00</td>\n      <td>9</td>\n      <td>NaN</td>\n    </tr>\n    <tr>\n      <th>30</th>\n      <td>15500</td>\n      <td>-0.78</td>\n      <td>2.22</td>\n      <td>9</td>\n      <td>NaN</td>\n    </tr>\n    <tr>\n      <th>31</th>\n      <td>16000</td>\n      <td>-1.00</td>\n      <td>2.00</td>\n      <td>9</td>\n      <td>NaN</td>\n    </tr>\n    <tr>\n      <th>32</th>\n      <td>16500</td>\n      <td>-1.00</td>\n      <td>2.00</td>\n      <td>10</td>\n      <td>NaN</td>\n    </tr>\n    <tr>\n      <th>33</th>\n      <td>17000</td>\n      <td>-1.00</td>\n      <td>2.00</td>\n      <td>9</td>\n      <td>NaN</td>\n    </tr>\n    <tr>\n      <th>34</th>\n      <td>17500</td>\n      <td>-1.00</td>\n      <td>2.00</td>\n      <td>8</td>\n      <td>NaN</td>\n    </tr>\n    <tr>\n      <th>35</th>\n      <td>18000</td>\n      <td>-0.90</td>\n      <td>2.10</td>\n      <td>10</td>\n      <td>NaN</td>\n    </tr>\n    <tr>\n      <th>36</th>\n      <td>18500</td>\n      <td>-0.90</td>\n      <td>2.10</td>\n      <td>10</td>\n      <td>NaN</td>\n    </tr>\n    <tr>\n      <th>37</th>\n      <td>19000</td>\n      <td>-1.00</td>\n      <td>2.00</td>\n      <td>8</td>\n      <td>NaN</td>\n    </tr>\n    <tr>\n      <th>38</th>\n      <td>19500</td>\n      <td>-0.88</td>\n      <td>2.12</td>\n      <td>8</td>\n      <td>NaN</td>\n    </tr>\n    <tr>\n      <th>39</th>\n      <td>20000</td>\n      <td>-1.00</td>\n      <td>2.00</td>\n      <td>9</td>\n      <td>NaN</td>\n    </tr>\n  </tbody>\n</table>\n</div>"
     },
     "execution_count": 1,
     "metadata": {},
     "output_type": "execute_result"
    }
   ],
   "source": [
    "import pandas as pd\n",
    "\n",
    "df = pd.read_csv('./model_logs/v17.1.csv')\n",
    "df"
   ]
  },
  {
   "cell_type": "code",
   "execution_count": null,
   "outputs": [],
   "source": [],
   "metadata": {
    "collapsed": false
   }
  }
 ],
 "metadata": {
  "kernelspec": {
   "display_name": "Python 3",
   "language": "python",
   "name": "python3"
  },
  "language_info": {
   "codemirror_mode": {
    "name": "ipython",
    "version": 2
   },
   "file_extension": ".py",
   "mimetype": "text/x-python",
   "name": "python",
   "nbconvert_exporter": "python",
   "pygments_lexer": "ipython2",
   "version": "2.7.6"
  }
 },
 "nbformat": 4,
 "nbformat_minor": 0
}
